{
  "cells": [
    {
      "cell_type": "markdown",
      "metadata": {
        "id": "g7sCjz8iwowA"
      },
      "source": [
        "# Install and import necessary libraries\n",
        "\n",
        "\n"
      ]
    },
    {
      "cell_type": "code",
      "execution_count": null,
      "metadata": {
        "id": "sDUmYCO1Uz9u"
      },
      "outputs": [],
      "source": [
        "!pip install hfst\n",
        "import hfst\n",
        "from hfst import compile_lexc_file"
      ]
    },
    {
      "cell_type": "code",
      "execution_count": null,
      "metadata": {
        "id": "O32C5hjlzaOq"
      },
      "outputs": [],
      "source": [
        "generator = hfst.compile_lexc_file('russian.lexc')"
      ]
    },
    {
      "cell_type": "markdown",
      "metadata": {
        "id": "eUf8sOB89aZ6"
      },
      "source": [
        "# Synthesis\n",
        "Here we try to iterate through all of the stems and synthesize all of the forms. Notice, that for some words they won't be correct, since we haven't implemented any rules for handling the exceptions yet (for words like *человек*, *озеро*, *мать*, *рот*)."
      ]
    },
    {
      "cell_type": "code",
      "execution_count": null,
      "metadata": {
        "collapsed": true,
        "id": "RVeh_kToxYiC"
      },
      "outputs": [],
      "source": [
        "from hfst import HfstTransducer, regex\n",
        "\n",
        "analyzer = HfstTransducer(generator) # Create a copy\n",
        "\n",
        "cases = ('Nom', 'Gen', 'Dat', 'Acc', 'Ins', 'Pre')\n",
        "numbers = ('Sg', 'Pl')\n",
        "stems = (\n",
        "    \"стен\", # N1dekl_a;\n",
        "    \"зарплат\", # N1dekl_a;\n",
        "    \"бур\", # N1dekl_ya;\n",
        "\n",
        "    \"стол\", # N2dekl_cons_ply; ! ply - Plural Nominative has -ы\n",
        "    \"рот\",  # N2dekl_cons_ply;\n",
        "    \"крюк\", # N2dekl_cons_pli; ! pli - Plural Nominative has -и\n",
        "    \"адвокат\", # N2dekl_cons_anim_ply; ! animate noun (different ending in accusative)\n",
        "    \"человек\", # N2dekl_cons_anim_pli; ! irregular plural forms using a different stem (люди, людей, людям...)\n",
        "    \"озер\", # N2dekl_o; ! -е -> -ё change in plural (озёра, озёр...)\n",
        "    \"пол\", # N2dekl_e;\n",
        "\n",
        "    \"кроват\", # N3dekl;\n",
        "    \"тетрад\", # N3dekl;\n",
        "    \"мат\", # N3dekl_anim; ! irregular forms, suffix -ер is inserted (матери, матерью, матерей...)\n",
        "\n",
        "    \"шоссе\", # N0dekl; ! indeclinable word\n",
        ")\n",
        "\n",
        "for stem in stems:\n",
        "  for number in numbers:\n",
        "    for _case in cases:\n",
        "      print(analyzer.lookup(f\"{stem}+N+{number}+{_case}\"))\n",
        "  print()"
      ]
    },
    {
      "cell_type": "markdown",
      "metadata": {
        "id": "2bZIspaNLS03"
      },
      "source": [
        "# Handling letter shifts\n",
        "The word \"озеро\" has a letter shift in its stem in plural number. We need to write a rule that deals with it.\n",
        "Here, the regex is used to replace the stem when it is followed by \"^S\", with S being the shift marker."
      ]
    },
    {
      "cell_type": "code",
      "execution_count": null,
      "metadata": {
        "id": "x5sc-pakL6Ia"
      },
      "outputs": [],
      "source": [
        "# Replacement\n",
        "Replacement = hfst.regex('о з е р -> о з ё р || _ \"^\" S')\n",
        "\n",
        "print(Replacement.lookup('озер^Sа'))\n",
        "print(Replacement.lookup('озер^S'))\n",
        "print(Replacement.lookup('озер^Sам'))\n",
        "print(Replacement.lookup('озер^Sами'))\n",
        "print(Replacement.lookup('озер^Sах'))"
      ]
    },
    {
      "cell_type": "markdown",
      "metadata": {
        "id": "Z8vMSI-RUF7M"
      },
      "source": [
        "# Handling suffix insertion\n",
        "The word \"мать\" has an additional suffix -ер in all forms except singular nominative and singular accusative. We need to write a rule that deals with it. Here, the regex is used to insert the suffix, whenever there is an insertion marker I."
      ]
    },
    {
      "cell_type": "code",
      "execution_count": null,
      "metadata": {
        "id": "p6bDJhmeU7A1"
      },
      "outputs": [],
      "source": [
        "# Insertion\n",
        "Insertion = hfst.regex('м а т -> м а т е р || _ \"^\" I')\n",
        "print(Insertion.lookup(\"мат^Iи\"))\n",
        "print(Insertion.lookup(\"мат^Iью\"))"
      ]
    },
    {
      "cell_type": "markdown",
      "metadata": {
        "id": "9riZ0TN0-Q84"
      },
      "source": [
        "# Handling letter deletions\n",
        "\n",
        "The word \"рот\" loses the letter \"о\" in all forms, except singular nominative and accusative. We need to write a rule that deals with it."
      ]
    },
    {
      "cell_type": "code",
      "execution_count": null,
      "metadata": {
        "id": "e813Y6GGABUF"
      },
      "outputs": [],
      "source": [
        "# Deletion\n",
        "Deletion = hfst.regex('р о т -> р т || _ \"^\" D')\n",
        "print(Deletion.lookup(\"рот^Dа\"))\n",
        "print(Deletion.lookup(\"рот^Dы\"))"
      ]
    },
    {
      "cell_type": "markdown",
      "metadata": {
        "id": "xWlrAFl7WrZd"
      },
      "source": [
        "# Handling irregular declension forms\n",
        "The word \"человек\" uses a completely different stem in plural - \"люд\" (люди, людей, людям...). We need to write a rule that deals with it. Here, the regex is used to replace the incorrect form with the correct one. As opposed to the previous examples, here we replace not only just the stem, but the whole word, since for some cases the ending changes as well. For example, in dative, -ами changes to -ьми."
      ]
    },
    {
      "cell_type": "code",
      "execution_count": null,
      "metadata": {
        "id": "Gb4LN3tuZswv"
      },
      "outputs": [],
      "source": [
        "# Exceptions\n",
        "chelovek_exceptions = [\n",
        "    hfst.regex('ч е л о в е к и -> л ю д и'),\n",
        "    hfst.regex('ч е л о в е к о в -> л ю д е й'),\n",
        "    hfst.regex('ч е л о в е к а м и -> л ю д ь м и'),\n",
        "    hfst.regex('ч е л о в е к а м -> л ю д я м'),\n",
        "    hfst.regex('ч е л о в е к а х -> л ю д я х')\n",
        "]\n",
        "\n",
        "chelovek_exception = hfst.compose(chelovek_exceptions)\n",
        "print(chelovek_exception.lookup(\"человеки\"))\n",
        "print(chelovek_exception.lookup(\"человеков\"))\n",
        "print(chelovek_exception.lookup(\"человекам\"))\n",
        "print(chelovek_exception.lookup(\"человеками\"))\n",
        "print(chelovek_exception.lookup(\"человеках\"))"
      ]
    },
    {
      "cell_type": "markdown",
      "metadata": {
        "id": "m83PfKb-a6Tj"
      },
      "source": [
        "# Deleting special symbols"
      ]
    },
    {
      "cell_type": "code",
      "execution_count": null,
      "metadata": {
        "id": "L11grYZAbBmr"
      },
      "outputs": [],
      "source": [
        "# Deleting\n",
        "Cleanup = hfst.regex('[S | I | E | D | \"^\"] -> 0')\n",
        "print(Cleanup.lookup(\"матер^Iи\"))"
      ]
    },
    {
      "cell_type": "markdown",
      "metadata": {
        "id": "SUMYttB6bYoZ"
      },
      "source": [
        "# FST composition"
      ]
    },
    {
      "cell_type": "code",
      "execution_count": null,
      "metadata": {
        "id": "u9eoV8khbbef"
      },
      "outputs": [],
      "source": [
        "from hfst import compose\n",
        "\n",
        "# Sintēze | Generation\n",
        "cascade = compose((generator, Replacement, Insertion, Deletion, Cleanup, chelovek_exception))\n",
        "\n",
        "print(cascade.lookup(\"человек+N+Pl+Pre\"))\n",
        "print(cascade.lookup(\"озер+N+Pl+Dat\"))\n",
        "print(cascade.lookup(\"мат+N+Sg+Gen\"))"
      ]
    },
    {
      "cell_type": "code",
      "execution_count": null,
      "metadata": {
        "id": "pLabUZhIcmkS"
      },
      "outputs": [],
      "source": [
        "# If you use the HFST library, you will need to remove the epsilon symbol.\n",
        "cascade.remove_epsilons()\n",
        "print(cascade.lookup(\"человек+N+Pl+Pre\")[0][0].replace(\"@_EPSILON_SYMBOL_@\", \"\"))"
      ]
    },
    {
      "cell_type": "markdown",
      "metadata": {
        "id": "kx8gZNyH444m"
      },
      "source": [
        "# The final list of all forms"
      ]
    },
    {
      "cell_type": "code",
      "execution_count": null,
      "metadata": {
        "id": "Jt4T3edfc-IS"
      },
      "outputs": [],
      "source": [
        "for stem in stems:\n",
        "  for number in numbers:\n",
        "    for _case in cases:\n",
        "      print(stem + \"+N+\" + number + \"+\" + _case + \" - \" + cascade.lookup(stem + \"+N+\" + number + \"+\" + _case)[0][0].replace(\"@_EPSILON_SYMBOL_@\", \"\"))\n",
        "  print()"
      ]
    }
  ],
  "metadata": {
    "colab": {
      "provenance": []
    },
    "kernelspec": {
      "display_name": "Python 3",
      "name": "python3"
    },
    "language_info": {
      "name": "python"
    }
  },
  "nbformat": 4,
  "nbformat_minor": 0
}
